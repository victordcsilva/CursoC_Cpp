{
 "cells": [
  {
   "cell_type": "markdown",
   "metadata": {},
   "source": [
    "# Curso de C/C++\n",
    "\n",
    "### Instalação\n",
    "\n",
    "- Iremos usar o software codeblock, pode ser baixado [aqui](http://www.codeblocks.org/downloads)\n",
    "- No ubuntu também pode ser instalado usando comandos:\n",
    "\n",
    "    - Abra o terminal (ctrl+alt+t)\n",
    "    - Digite:\n",
    "        - sudo add-apt-repository ppa:damien-moore/codeblocks-stabl\n",
    "        - sudo apt-get update\n",
    "        - sudo apt-get install codeblocks"
   ]
  },
  {
   "cell_type": "markdown",
   "metadata": {},
   "source": [
    "### Testando com Hello World\n",
    "\n",
    "- Abra o codeblock, inicie um arquivo em branco e copie e cole o código abaixo;\n",
    "- Salve como \"hello.cpp\";\n",
    "- Aperte F9 para compilar e rodar o programa;\n",
    "- Se tudo der certo, aparecer uma nova janela com a mensagem digitada. "
   ]
  },
  {
   "cell_type": "code",
   "execution_count": null,
   "metadata": {},
   "outputs": [],
   "source": [
    "#include <iostream>\n",
    "\n",
    "using namespace std;\n",
    "int main(){\n",
    "\n",
    "\n",
    "    cout << \"\\nHello World!!!\\n\";\n",
    "\n",
    "    return 0;\n",
    "\n",
    "}\n"
   ]
  }
 ],
 "metadata": {
  "kernelspec": {
   "display_name": "C++11",
   "language": "C++11",
   "name": "xcpp11"
  },
  "language_info": {
   "codemirror_mode": "text/x-c++src",
   "file_extension": ".cpp",
   "mimetype": "text/x-c++src",
   "name": "c++",
   "version": "11"
  }
 },
 "nbformat": 4,
 "nbformat_minor": 4
}
